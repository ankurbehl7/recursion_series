{
 "cells": [
  {
   "cell_type": "code",
   "execution_count": 4,
   "metadata": {},
   "outputs": [
    {
     "name": "stdout",
     "output_type": "stream",
     "text": [
      "Enter n: 89\n",
      "The nth number is : 1708894752669345122781412283638152\n"
     ]
    }
   ],
   "source": [
    "def series(n):\n",
    "    \"\"\"Return the nth Fibonacci number.\"\"\"\n",
    "    if n == 0:\n",
    "        return 0\n",
    "    elif n==1:\n",
    "        return 1\n",
    "    else:\n",
    " \n",
    "        r = [-1]*(n + 1)\n",
    "        r[0] = 0\n",
    "        r[1] = 1\n",
    "\n",
    "        for i in range(2, n + 1):\n",
    "            r[i] = 2*(r[i - 1])+ r[i - 2]\n",
    "\n",
    "        return r[n-1]\n",
    "\n",
    " \n",
    "n = int(input('Enter n: '))\n",
    " \n",
    "result = series(n)\n",
    "print('The nth number is :', result)"
   ]
  },
  {
   "cell_type": "code",
   "execution_count": null,
   "metadata": {},
   "outputs": [],
   "source": []
  }
 ],
 "metadata": {
  "kernelspec": {
   "display_name": "Python 3",
   "language": "python",
   "name": "python3"
  },
  "language_info": {
   "codemirror_mode": {
    "name": "ipython",
    "version": 3
   },
   "file_extension": ".py",
   "mimetype": "text/x-python",
   "name": "python",
   "nbconvert_exporter": "python",
   "pygments_lexer": "ipython3",
   "version": "3.7.1"
  }
 },
 "nbformat": 4,
 "nbformat_minor": 2
}
